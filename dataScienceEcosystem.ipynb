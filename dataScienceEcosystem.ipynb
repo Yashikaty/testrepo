{
 "cells": [
  {
   "cell_type": "markdown",
   "id": "f629d896-2f8c-4b8c-b159-402890d43bbd",
   "metadata": {},
   "source": [
    "# Data Science Tools and Ecosystem\n"
   ]
  },
  {
   "cell_type": "markdown",
   "id": "b69e8ab5-2a3c-4de1-ad04-ac01afc47701",
   "metadata": {},
   "source": [
    "In this notebook, Data Science Tools and Ecosystem are summarized.\n",
    " #### OBJECTIVES\n",
    "* List popular languages for Data Science\n",
    "* List commonly used libraries used by Data Scientists\n",
    "\n"
   ]
  },
  {
   "cell_type": "markdown",
   "id": "146cc455-6ffc-41c1-900c-0ba0478d3416",
   "metadata": {},
   "source": [
    "Some of the popular languages that Data Scientists use are:"
   ]
  },
  {
   "cell_type": "markdown",
   "id": "0bcf0b06-d58a-41d4-8c6c-3b4dc3ab45f1",
   "metadata": {},
   "source": [
    "1. Python\n",
    "2. R\n",
    "3. JAVA"
   ]
  },
  {
   "cell_type": "markdown",
   "id": "efc85eda-dacf-4cb9-a452-42b03f66159f",
   "metadata": {},
   "source": [
    "Some of the commonly used libraries used by Data Scientists include:"
   ]
  },
  {
   "cell_type": "markdown",
   "id": "787b87a7-baf2-4da5-912f-68ffb2efa340",
   "metadata": {},
   "source": [
    "1. Matplotlib\n",
    "2. NumPy\n",
    "3.Pandas\n"
   ]
  },
  {
   "cell_type": "markdown",
   "id": "30479121-cf44-4616-84a0-66e6c1fcd762",
   "metadata": {},
   "source": [
    "Data Science Tools"
   ]
  },
  {
   "cell_type": "markdown",
   "id": "7e932d73-17b6-4e37-ab01-46b930ca62af",
   "metadata": {},
   "source": [
    "| No. | Tools |\n",
    "| ---- | ---- |\n",
    "| 1 | Apache Spark |\n",
    "| 2 | Jupyter Notebook |\n",
    "| 3 | Apache Hadoop |"
   ]
  },
  {
   "cell_type": "markdown",
   "id": "4894e81b-fcc4-49a6-8973-734dac66cc1b",
   "metadata": {},
   "source": [
    "### Below are a few examples of evaluating arithmetic expressions in Python"
   ]
  },
  {
   "cell_type": "code",
   "execution_count": 1,
   "id": "3ea44782-a469-4fc8-9ec2-3c4ccb1e3711",
   "metadata": {},
   "outputs": [],
   "source": [
    " # This a simple arithmetic expression to mutiply then add integers"
   ]
  },
  {
   "cell_type": "code",
   "execution_count": 2,
   "id": "b4fb1793-9c29-495f-9afe-f1c63a41ba84",
   "metadata": {},
   "outputs": [
    {
     "data": {
      "text/plain": [
       "17"
      ]
     },
     "execution_count": 2,
     "metadata": {},
     "output_type": "execute_result"
    }
   ],
   "source": [
    "(3*4)+5\n"
   ]
  },
  {
   "cell_type": "code",
   "execution_count": 3,
   "id": "0b1e7f0c-186a-4387-8675-7ad39adc6158",
   "metadata": {},
   "outputs": [],
   "source": [
    "#This will convert 200 minutes to hours by diving by 60"
   ]
  },
  {
   "cell_type": "code",
   "execution_count": 8,
   "id": "595454cf-ce67-462d-9c34-1c212d29feac",
   "metadata": {},
   "outputs": [
    {
     "data": {
      "text/plain": [
       "3"
      ]
     },
     "execution_count": 8,
     "metadata": {},
     "output_type": "execute_result"
    }
   ],
   "source": [
    " 200  // 60"
   ]
  },
  {
   "cell_type": "markdown",
   "id": "9ad58bb0-ea7a-45b6-a5b6-5e932ad4734c",
   "metadata": {},
   "source": [
    "## Author\n",
    "Yashika Tyagi"
   ]
  },
  {
   "cell_type": "code",
   "execution_count": null,
   "id": "9986b573-b358-46a0-bc84-afbd70143a50",
   "metadata": {},
   "outputs": [],
   "source": []
  }
 ],
 "metadata": {
  "kernelspec": {
   "display_name": "Python 3 (ipykernel)",
   "language": "python",
   "name": "python3"
  },
  "language_info": {
   "codemirror_mode": {
    "name": "ipython",
    "version": 3
   },
   "file_extension": ".py",
   "mimetype": "text/x-python",
   "name": "python",
   "nbconvert_exporter": "python",
   "pygments_lexer": "ipython3",
   "version": "3.11.7"
  }
 },
 "nbformat": 4,
 "nbformat_minor": 5
}
